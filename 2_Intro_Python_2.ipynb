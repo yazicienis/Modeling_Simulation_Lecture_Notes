{
  "nbformat": 4,
  "nbformat_minor": 0,
  "metadata": {
    "colab": {
      "provenance": [],
      "authorship_tag": "ABX9TyOP4+guNVgEmJOj1ik/JX91",
      "include_colab_link": true
    },
    "kernelspec": {
      "name": "python3",
      "display_name": "Python 3"
    },
    "language_info": {
      "name": "python"
    }
  },
  "cells": [
    {
      "cell_type": "markdown",
      "metadata": {
        "id": "view-in-github",
        "colab_type": "text"
      },
      "source": [
        "<a href=\"https://colab.research.google.com/github/yazicienis/Modeling_Simulation_Lecture_Notes/blob/main/2_Intro_Python_2.ipynb\" target=\"_parent\"><img src=\"https://colab.research.google.com/assets/colab-badge.svg\" alt=\"Open In Colab\"/></a>"
      ]
    },
    {
      "cell_type": "markdown",
      "source": [
        "# Python Lecture Notes\n",
        "## Variables\n",
        "\n",
        "### Mathematical Operations\n",
        "\n",
        "In this Jupyter Notebook you will find some examples in python language."
      ],
      "metadata": {
        "id": "XMYEkXTHVuHA"
      }
    },
    {
      "cell_type": "markdown",
      "source": [
        "# Assigning Variables\n",
        "## Common Examples:\n"
      ],
      "metadata": {
        "id": "DCZF3NlCYIl-"
      }
    },
    {
      "cell_type": "code",
      "execution_count": null,
      "metadata": {
        "id": "MOS0ikk4X08j"
      },
      "outputs": [],
      "source": [
        "a,b,c,d,e = 0,1,2,3,4\n",
        "# a = b = c = d = e = 0\n",
        "print(a)\n",
        "print (b)\n",
        "print(c)\n",
        "print (d)\n",
        "print(e)"
      ]
    },
    {
      "cell_type": "code",
      "source": [
        "initials = [0,0,0,0,0,0,0,0,0]\n",
        "a,b,c,d,e,f,g,h,i = initials\n",
        "print (i)\n",
        "print(e)\n"
      ],
      "metadata": {
        "id": "dIStvgwEYQEN"
      },
      "execution_count": null,
      "outputs": []
    },
    {
      "cell_type": "code",
      "source": [
        "x = \"Physics\"\n",
        "y = \"is awesome\"\n",
        "print (x+y)\n",
        "print (x,y)\n",
        "\n",
        "g = [3]\n",
        "h = [5]\n",
        "int1 = 5\n",
        "int2 = 8\n",
        "list1 = g + h\n",
        "list2 = int1 + int2\n",
        "print(list1)\n",
        "print(list2)\n",
        "\n",
        "print(\"The sum is = \", int1 + int2)"
      ],
      "metadata": {
        "id": "hXSZg9wFYX98"
      },
      "execution_count": null,
      "outputs": []
    },
    {
      "cell_type": "code",
      "source": [
        "# Booleans\n",
        "a = True\n",
        "b = False\n",
        "# True , False , list , int, float, str , type .... these words are already reserved in Python\n",
        "\n",
        "print (type (a))\n",
        "print (type (b))"
      ],
      "metadata": {
        "id": "QSPGHy1OYYax"
      },
      "execution_count": null,
      "outputs": []
    },
    {
      "cell_type": "code",
      "source": [
        "False =3\n",
        "False"
      ],
      "metadata": {
        "id": "vVxZcWtRVTiI"
      },
      "execution_count": null,
      "outputs": []
    },
    {
      "cell_type": "code",
      "source": [],
      "metadata": {
        "id": "D9zN4C0LVTqG"
      },
      "execution_count": null,
      "outputs": []
    },
    {
      "cell_type": "markdown",
      "source": [
        "## Keywords in Python"
      ],
      "metadata": {
        "id": "bvwJ04ubY27m"
      }
    },
    {
      "cell_type": "markdown",
      "source": [
        "![image.png](data:image/png;base64,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)"
      ],
      "metadata": {
        "id": "BMvmX3hEY0yD"
      }
    },
    {
      "cell_type": "code",
      "source": [
        "# Control & Check Methods:\n",
        "\n",
        "text1 = \"The best things in life are free!\"\n",
        "print (\"best\" in text1)\n",
        "print (\"worse\" in text1)\n",
        "print(\"Best\" in text1)\n",
        "print (\"best\" not in text1)\n"
      ],
      "metadata": {
        "id": "VooFobXLYeUY"
      },
      "execution_count": null,
      "outputs": []
    },
    {
      "cell_type": "code",
      "source": [
        "# The Length of a String or of a List\n",
        "text1 = \"The best\"\n",
        "print (len(text1))\n",
        "print (text1[0:5])\n",
        "print (text1[-3])"
      ],
      "metadata": {
        "id": "3X0zWMQpYnpM"
      },
      "execution_count": null,
      "outputs": []
    },
    {
      "cell_type": "code",
      "source": [
        "a=[0,1,2,3,4,5,6,7,8]\n",
        "\n",
        "print(a[1::2])\n",
        "\n",
        "print(a[-4:-7:-1])"
      ],
      "metadata": {
        "id": "cobh--9Mqgj1"
      },
      "execution_count": null,
      "outputs": []
    },
    {
      "cell_type": "code",
      "source": [
        "text1 = \"The best LIFE\"\n",
        "print (text1.upper())\n",
        "print(text1.lower())\n",
        "print(text1.capitalize())\n",
        "print(text1.title())\n"
      ],
      "metadata": {
        "id": "Rg-8juFlZJ5v"
      },
      "execution_count": null,
      "outputs": []
    },
    {
      "cell_type": "code",
      "source": [
        "print(text1.replace(\"e\",\"a\"))\n"
      ],
      "metadata": {
        "id": "ihLs_qneZMCJ"
      },
      "execution_count": null,
      "outputs": []
    },
    {
      "cell_type": "code",
      "source": [
        "print(text1.count(\"E\"))\n"
      ],
      "metadata": {
        "id": "husZtFjVZQMs"
      },
      "execution_count": null,
      "outputs": []
    },
    {
      "cell_type": "code",
      "source": [
        "print(text1.find(\"e\"))"
      ],
      "metadata": {
        "id": "FfRzr26JZQPt"
      },
      "execution_count": null,
      "outputs": []
    },
    {
      "cell_type": "code",
      "source": [
        "text1[2]"
      ],
      "metadata": {
        "id": "iIgPj9IBYOz_"
      },
      "execution_count": null,
      "outputs": []
    },
    {
      "cell_type": "markdown",
      "source": [
        "## Brackets in Python"
      ],
      "metadata": {
        "id": "vEppiz_YZXXJ"
      }
    },
    {
      "cell_type": "code",
      "source": [
        "\"\"\" Brackets in Python:\n",
        "\n",
        "\n",
        " () parentheses\n",
        " [] brackets / square brackets\n",
        " {} braces / curly brackets\n",
        "\n",
        " Which Quotation Mark?\n",
        "\n",
        " \" and ' work the same\n",
        "\n",
        "\"\"\"\n",
        "\n",
        "# To comment out more than one line, use three quotation marks: \"\"\"  \"\"\""
      ],
      "metadata": {
        "id": "nEZTVHxRZQSa"
      },
      "execution_count": null,
      "outputs": []
    },
    {
      "cell_type": "code",
      "source": [
        "# Usage of format() Function:\n",
        "\n",
        "age = 40\n",
        "kids = \"three\"\n",
        "\n",
        "txt = \"My name is John. I am {0} years old. I have {1} children.\"\n",
        "\n",
        "print (txt.format(age, kids))\n"
      ],
      "metadata": {
        "id": "wIsiXU6HZQVS"
      },
      "execution_count": null,
      "outputs": []
    },
    {
      "cell_type": "code",
      "source": [
        "txt2 = \"I bought a {}\"\n",
        "object1 = \"Car\"\n",
        "print (txt2.format(object1))"
      ],
      "metadata": {
        "id": "ugIvdcjKZQYR"
      },
      "execution_count": null,
      "outputs": []
    },
    {
      "cell_type": "code",
      "source": [
        "a = \"hi\"\n",
        "b = 'hi'\n",
        "print ( a , b )\n",
        "\n",
        "\n",
        "\"\"\"\n",
        "By using triple quotation mark,\n",
        "We can comment\n",
        "more than\n",
        "one line!\n",
        "\"\"\"\n"
      ],
      "metadata": {
        "id": "45SHm6Z3ZQa8"
      },
      "execution_count": null,
      "outputs": []
    },
    {
      "cell_type": "code",
      "source": [
        "# input() Function:\n",
        "\n",
        "input1 = input (\"Give an number!\")\n",
        "print (type(input1))\n",
        "\n",
        "print (input1*10)\n",
        "input1 = float(input1)\n",
        "print (type(input1))\n",
        "print (input1 * 10)\n"
      ],
      "metadata": {
        "id": "o8BiCnL5ZQdb"
      },
      "execution_count": null,
      "outputs": []
    },
    {
      "cell_type": "code",
      "source": [
        "# type(Function):\n",
        "\n",
        "print (type(1 + 2 * 4 / 4))"
      ],
      "metadata": {
        "id": "tgUmF-g5aDsz"
      },
      "execution_count": null,
      "outputs": []
    },
    {
      "cell_type": "code",
      "source": [
        "# sorted() Function:\n",
        "listsample = [4,5,2,0,4.8]\n",
        "print (sorted(listsample))"
      ],
      "metadata": {
        "id": "-U8ALSVhaDvX"
      },
      "execution_count": null,
      "outputs": []
    },
    {
      "cell_type": "code",
      "source": [
        "print(sum(listsample))\n"
      ],
      "metadata": {
        "id": "mHwRh1VDaDyE"
      },
      "execution_count": null,
      "outputs": []
    },
    {
      "cell_type": "markdown",
      "source": [
        "# Importing Modules and Specific Functions from Other Modules\n"
      ],
      "metadata": {
        "id": "Rc7z5MRBaVxk"
      }
    },
    {
      "cell_type": "code",
      "source": [
        "a = sqrt(9)"
      ],
      "metadata": {
        "id": "H6MpERYluLkI"
      },
      "execution_count": null,
      "outputs": []
    },
    {
      "cell_type": "code",
      "source": [
        "\n",
        "\n",
        "#To import all functions in Module math :\n",
        "from math import *\n",
        "\n",
        "# To import just a specific function from module math:\n",
        "\n",
        "from math import sqrt\n",
        "\n",
        "a = sqrt(9)\n",
        "print (a)\n",
        "\n",
        "# https://docs.python.org/3/library/math.html\n"
      ],
      "metadata": {
        "id": "F1U_YH0LaD0n"
      },
      "execution_count": null,
      "outputs": []
    },
    {
      "cell_type": "code",
      "source": [
        "import math"
      ],
      "metadata": {
        "id": "rYO6wPvzuk6i"
      },
      "execution_count": null,
      "outputs": []
    },
    {
      "cell_type": "code",
      "source": [
        "a = math.pow(10,3)\n",
        "\n",
        "a"
      ],
      "metadata": {
        "id": "1nNQ61qXunTw"
      },
      "execution_count": null,
      "outputs": []
    },
    {
      "cell_type": "code",
      "source": [
        "# Producing Random Numbers\n",
        "from random import randint\n",
        "from random import randrange\n",
        "from random import random\n",
        "a = randint(0,10)\n",
        "print (a)\n",
        "b = randrange (0,100, 3)\n",
        "print (b)\n",
        "c = random()   # generates a number between 0 and 1\n",
        "print (c)"
      ],
      "metadata": {
        "id": "az2R0U_9aD3g"
      },
      "execution_count": null,
      "outputs": []
    },
    {
      "cell_type": "markdown",
      "source": [
        "# **If and If Else Satements**"
      ],
      "metadata": {
        "id": "zeJsCqbSdwNn"
      }
    },
    {
      "cell_type": "code",
      "source": [
        "n = 14\n",
        "if n % 2 == 0 :\n",
        " print (\"n is an even number\")\n",
        "else:\n",
        " print (\"n is an odd number\")"
      ],
      "metadata": {
        "id": "xS_vkmrjd5Ab"
      },
      "execution_count": null,
      "outputs": []
    },
    {
      "cell_type": "code",
      "source": [
        "'''\n",
        "a == b    equal\n",
        "a != b    not equal\n",
        "a < b     less than\n",
        "a > b     greater than\n",
        "a >= b    greater or equal\n",
        "a <= b    less or equal\n",
        "\n",
        "'''\n"
      ],
      "metadata": {
        "id": "O3YpGM_hd5EK"
      },
      "execution_count": null,
      "outputs": []
    },
    {
      "cell_type": "code",
      "source": [
        "a = 51\n",
        "b = 50\n",
        "\n",
        "if a < b :\n",
        "  print (a)\n",
        "\n",
        "elif a == b :\n",
        "  print (\"equal\")\n",
        "\n",
        "else:\n",
        "  print (b)"
      ],
      "metadata": {
        "id": "KOl-gDKwd5Gz"
      },
      "execution_count": null,
      "outputs": []
    },
    {
      "cell_type": "code",
      "source": [
        "i = input(\"Enter a character:\")\n",
        "\n",
        "if i.isalpha():\n",
        "    print (i, \"is a letter\")\n",
        "\n",
        "elif i == \" \" :\n",
        "    print (i, \"is a space\")\n",
        "\n",
        "elif i.isnumeric():\n",
        "    print (i, \"is a number\")\n",
        "\n",
        "else:\n",
        "    print (i, \"is a sign\")"
      ],
      "metadata": {
        "id": "D9VKrn2yd5Mf"
      },
      "execution_count": null,
      "outputs": []
    },
    {
      "cell_type": "markdown",
      "source": [
        "\\\n",
        "\n",
        "# **For and While Loops in Python**\n",
        "\n",
        "\\\n"
      ],
      "metadata": {
        "id": "c1XpBPwQa7N8"
      }
    },
    {
      "cell_type": "code",
      "source": [
        "for i in range(5):\n",
        "  x = 2*i\n",
        "  print (x)\n",
        "  print(2*x)"
      ],
      "metadata": {
        "id": "vPMRAmiGaD6C"
      },
      "execution_count": null,
      "outputs": []
    },
    {
      "cell_type": "code",
      "source": [
        "from math import sqrt\n",
        "for value in range (0,100,13):\n",
        "  x = sqrt(value)\n",
        "  print (\"Square root of {} is {}\".format(value, x))"
      ],
      "metadata": {
        "id": "L_JEMGEG0FQD"
      },
      "execution_count": null,
      "outputs": []
    },
    {
      "cell_type": "code",
      "source": [
        "list1 = [\"a\",\"b\",\"c\",\"d\"]\n",
        "\n",
        "for i in list1:\n",
        "  print (i)"
      ],
      "metadata": {
        "id": "1E320YHAaD84"
      },
      "execution_count": null,
      "outputs": []
    },
    {
      "cell_type": "code",
      "source": [
        "for i in range(len(list1)):\n",
        "  print (i)"
      ],
      "metadata": {
        "id": "5UbCXIWFaD_R"
      },
      "execution_count": null,
      "outputs": []
    },
    {
      "cell_type": "code",
      "source": [
        "for i in [5,10,15,20] :\n",
        "  print (2*i)"
      ],
      "metadata": {
        "id": "IBX02zy7aECN"
      },
      "execution_count": null,
      "outputs": []
    },
    {
      "cell_type": "code",
      "source": [
        "L = []\n",
        "\n",
        "for i in range (1, 10):\n",
        "  L.append(3*i)\n",
        "print (L)"
      ],
      "metadata": {
        "id": "PfsfvZp4bntR"
      },
      "execution_count": null,
      "outputs": []
    },
    {
      "cell_type": "code",
      "source": [
        "# While Loops\n",
        "\n",
        "from random import randint\n",
        "\n",
        "\n",
        "L = []\n",
        "\n",
        "\n",
        "while len(L) <= 10 :\n",
        "  L.append(randint(0,1000))\n",
        "\n",
        "print(L)"
      ],
      "metadata": {
        "id": "-P0TFoD-bsNB"
      },
      "execution_count": null,
      "outputs": []
    },
    {
      "cell_type": "code",
      "source": [
        "# Program to add natural numbers up to sum = 1+2+3+...+n\n",
        "\n",
        "# To take input from the user,\n",
        "n = int(input(\"Enter n: \"))\n",
        "\n",
        "# initialize sum and counter\n",
        "sum = 0\n",
        "i = 1\n",
        "\n",
        "while i <= n:\n",
        "    sum = sum + i\n",
        "    i = i+1    # update counter\n",
        "\n",
        "# print the sum\n",
        "print(\"The sum of natural numbers from 0 to {} is:\".format(n), sum)"
      ],
      "metadata": {
        "id": "Vso1pivXc-Rf"
      },
      "execution_count": null,
      "outputs": []
    },
    {
      "cell_type": "markdown",
      "source": [
        "#### For and While blocks start with a colon, end till the space char exist (indentation)."
      ],
      "metadata": {
        "id": "J0T1GVsPbwhG"
      }
    },
    {
      "cell_type": "markdown",
      "source": [
        "# A Very Well-Known Example:\n",
        "## Fibonacci Series\n",
        "### And Golden Ratio\n",
        "\n",
        "https://www.youtube.com/watch?v=0tAZe6pP-FM"
      ],
      "metadata": {
        "id": "LAvulQ7Jfssq"
      }
    },
    {
      "cell_type": "code",
      "source": [
        "# 1 1 2 3 5 8 13 21 34 55 .......\n",
        "# goldenratio = 55/34\n",
        "\n",
        "a = 1\n",
        "b = 1\n",
        "\n",
        "fibonacci = [a,b]\n",
        "\n",
        "for i in range (100):\n",
        "  c = a+b\n",
        "  fibonacci.append(c)\n",
        "  a = b\n",
        "  b = c\n",
        "\n",
        "print (fibonacci)\n",
        "\n",
        "goldenRatio = fibonacci[-1] / fibonacci [-2]\n",
        "print (\"Golden Ratio is : \", goldenRatio)"
      ],
      "metadata": {
        "id": "HRjbB6Wdd5SX"
      },
      "execution_count": null,
      "outputs": []
    },
    {
      "cell_type": "code",
      "source": [
        "f = [1,1]\n",
        "\n",
        "i=2\n",
        "\n",
        "while i<100:\n",
        "\n",
        "  f.append(f[i-1] + f[i-2])\n",
        "\n",
        "  i=i+1\n",
        "\n",
        "print(f)\n",
        "\n",
        "print(\"Golden ratio is :\",f[-1]/f[-2])"
      ],
      "metadata": {
        "id": "_R8gHIldd5VU"
      },
      "execution_count": null,
      "outputs": []
    },
    {
      "cell_type": "code",
      "source": [
        "# List of Numbers that can be divided by 13 between 0 and 1000:\n",
        "\n",
        "L = []\n",
        "\n",
        "for x in range(1000) :\n",
        "\n",
        "  if x % 13 == 0 :\n",
        "\n",
        "    L.append(x)\n",
        "\n",
        "print (L)"
      ],
      "metadata": {
        "id": "xXxmUvnghaMa"
      },
      "execution_count": null,
      "outputs": []
    },
    {
      "cell_type": "code",
      "source": [
        "sentence = \"!!e4\"\n",
        "\n",
        "for i in sentence:\n",
        "\n",
        "  if i.isalpha():\n",
        "    print (i, \"is a letter\")\n",
        "\n",
        "  elif i == \" \" :\n",
        "    print (i, \"is a space\")\n",
        "\n",
        "  elif i.isnumeric():\n",
        "    print (i, \"is a number\")\n",
        "\n",
        "  else:\n",
        "    print (i, \"is a sign\")"
      ],
      "metadata": {
        "id": "ROmD2XDud5J0"
      },
      "execution_count": null,
      "outputs": []
    },
    {
      "cell_type": "markdown",
      "source": [
        "# \"Break\" Method in While Loops:"
      ],
      "metadata": {
        "id": "bg_DxieGiE02"
      }
    },
    {
      "cell_type": "code",
      "source": [
        "i = 1\n",
        "\n",
        "while i < 6:\n",
        "  print(i)\n",
        "\n",
        "  if i == 3:\n",
        "    break\n",
        "  i = i+1"
      ],
      "metadata": {
        "id": "X6KWkuvMcXYo"
      },
      "execution_count": null,
      "outputs": []
    },
    {
      "cell_type": "code",
      "source": [
        "L = []\n",
        "\n",
        "while True:\n",
        "  L.append(0)\n",
        "\n",
        "  if len(L) == 50:\n",
        "    break\n",
        "\n",
        "\n",
        "print(L)"
      ],
      "metadata": {
        "id": "xkA1_AOKc-Xm"
      },
      "execution_count": null,
      "outputs": []
    },
    {
      "cell_type": "markdown",
      "source": [
        "**Dictionary**\n",
        "\n",
        "A Dictionary is an other data type in Python.\n",
        "It consists of key-value pairs. A value always belongs to a specific key. So one can \"map\" (assign) the keys to the values, hence the category name mapping."
      ],
      "metadata": {
        "id": "iiYdGLuzies8"
      }
    },
    {
      "cell_type": "code",
      "source": [
        "# Data Types in Python:\n",
        "list1 =[1,2]\n",
        "integer1 = 5\n",
        "float1 = 1.5\n",
        "string1= \"Hallo\"\n",
        "a = True\n",
        "print(type(list1))\n",
        "print(type(integer1))\n",
        "print(type(float1))\n",
        "print(type(string1))\n",
        "print (type(a))"
      ],
      "metadata": {
        "id": "Gv415RK4c-cq"
      },
      "execution_count": null,
      "outputs": []
    },
    {
      "cell_type": "code",
      "source": [
        "# Dictionary Declaration\n",
        "dictionary1 = {\"Land\": \"Bayern\"}\n",
        "print(dictionary1)\n",
        "print (type(dictionary1))\n",
        "print (len(dictionary1))"
      ],
      "metadata": {
        "id": "_2k73tgFc-fk"
      },
      "execution_count": null,
      "outputs": []
    },
    {
      "cell_type": "code",
      "source": [
        "#This example shows a dictionary named \"cities\" which includes German cities that have more than one million population.\n",
        "\n",
        "cities = { \"Berlin\": 3667000,\n",
        "\"Hamburg\": 1850000,\n",
        "\"Munich\": 1490000,\n",
        "\"Cologne\": 1090000, }"
      ],
      "metadata": {
        "id": "nrLUzqCTc-nM"
      },
      "execution_count": null,
      "outputs": []
    },
    {
      "cell_type": "code",
      "source": [
        "print (cities)"
      ],
      "metadata": {
        "id": "7Y0BdDTjc-qU"
      },
      "execution_count": null,
      "outputs": []
    },
    {
      "cell_type": "code",
      "source": [
        "# We can access the value for a specific key by specifying that key in brackets following the dictionary name:\n",
        "\n",
        "cities[\"Munich\"]"
      ],
      "metadata": {
        "id": "2Q8aQezTcuD7"
      },
      "execution_count": null,
      "outputs": []
    },
    {
      "cell_type": "code",
      "source": [
        "# It is very easy to add more entries to a dictionary. We show this using the example of the city of Konstanz:\n",
        "cities[\"Konstanz\"], cities[\"Heidelberg\"] = 85000, 100000"
      ],
      "metadata": {
        "id": "5s80DVhriuqX"
      },
      "execution_count": null,
      "outputs": []
    },
    {
      "cell_type": "code",
      "source": [
        "cities"
      ],
      "metadata": {
        "id": "R_XkONN5iutQ"
      },
      "execution_count": null,
      "outputs": []
    },
    {
      "cell_type": "code",
      "source": [
        "# One can declare an empty dictionary. An empty dictionary is created with a pair of curly brackets {} or the dict() call:\n",
        "participant = {}\n",
        "print (participant)"
      ],
      "metadata": {
        "id": "h_174PuKiuwA"
      },
      "execution_count": null,
      "outputs": []
    },
    {
      "cell_type": "code",
      "source": [
        "participant[\"James\"] = \"present\"\n",
        "print (participant)"
      ],
      "metadata": {
        "id": "EFr5luYgiuyg"
      },
      "execution_count": null,
      "outputs": []
    },
    {
      "cell_type": "code",
      "source": [
        "participant[\"Kate\"] = \"absent\"\n",
        "print (participant)"
      ],
      "metadata": {
        "id": "2uAFTTBeiu3s"
      },
      "execution_count": null,
      "outputs": []
    },
    {
      "cell_type": "code",
      "source": [
        "# There is another way to declare a dictionary: Using dict() Function:\n",
        "\n",
        "participantList = dict()\n",
        "participantList[\"John\"] = \"present\"\n",
        "print (participantList)"
      ],
      "metadata": {
        "id": "hqMoZjPgi6FI"
      },
      "execution_count": null,
      "outputs": []
    },
    {
      "cell_type": "code",
      "source": [
        "participant[\"Ali\"] = \"present\"\n",
        "print (participant)"
      ],
      "metadata": {
        "id": "bu7IyVUGi6Hm"
      },
      "execution_count": null,
      "outputs": []
    },
    {
      "cell_type": "code",
      "source": [
        "participant[\"Ali\"] = \"absent\"\n",
        "\n",
        "participant[\"James2\"] = \"present\"\n",
        "print (participant)"
      ],
      "metadata": {
        "id": "GzZtlGoqi6KE"
      },
      "execution_count": null,
      "outputs": []
    },
    {
      "cell_type": "code",
      "source": [
        "# Please also note that the values in a dictionary don't have to be unique, which is why we could use \"present\" multiple times.\n",
        "# However, the keys are unique:\n",
        "food={}\n",
        "\n",
        "food[\"cheese\"] = \"yes\"\n",
        "food[\"eggs\"] = \"yes\"\n",
        "food[\"cheese\"] = \"no\"\n",
        "food[\"cola\"] = \"No\"\n",
        "food"
      ],
      "metadata": {
        "id": "Y-PlM_rsi6Mj"
      },
      "execution_count": null,
      "outputs": []
    },
    {
      "cell_type": "code",
      "source": [
        "\"cheese\" in food"
      ],
      "metadata": {
        "id": "aGwP3OCdAskm"
      },
      "execution_count": null,
      "outputs": []
    },
    {
      "cell_type": "markdown",
      "source": [
        "### Operators on dictionaries\n",
        "\n",
        "     ** Operator **                 ** Explanation **\n",
        "    \n",
        "     len(d)                      Returns the number of all elements contained in the dictionary, i.e. key-value pairs\n",
        "     del (d[k])                    Delete key k along with its value\n",
        "     k in d                      True if there is a key k in dictionary d\n",
        "     k not in d                  True if there is no key k in dictionary d"
      ],
      "metadata": {
        "id": "KI73y8NLjM3Q"
      }
    },
    {
      "cell_type": "code",
      "source": [
        "dic= {}\n",
        "\n",
        "dic[\"a\"] = \"1\"\n",
        "\n",
        "dic[\"b\"] = \"2\"\n",
        "\n",
        "dic[\"c\"] = \"3\"\n",
        "\n",
        "dic[\"d\"] = \"4\"\n",
        "\n",
        "dic[\"e\"] = \"5\"\n",
        "\n",
        "dic[\"f\"] = \"6\"\n",
        "\n",
        "dic[\"g\"] = \"7\"\n",
        "\n",
        "dic[\"h\"] = \"8\"\n",
        "\n",
        "dic[\"i\"] = \"9\"\n",
        "\n",
        "dic[\"j\"] = \"10\"\n",
        "\n",
        "dic"
      ],
      "metadata": {
        "id": "Cps6DfEUi6O4"
      },
      "execution_count": null,
      "outputs": []
    },
    {
      "cell_type": "code",
      "source": [
        "dictionary = {\"a\":1,\"b\":2,\"c\":3,\"d\":4,\"e\":5,\"f\":6,\"g\":7,\"h\":8,\"i\":9,\"j\":10}\n",
        "dictionary"
      ],
      "metadata": {
        "id": "vbdaa0RdjUpi"
      },
      "execution_count": null,
      "outputs": []
    },
    {
      "cell_type": "code",
      "source": [
        "dictionary = {'KEY WORD' : 'Value'}"
      ],
      "metadata": {
        "id": "CRjjD1TGjUsX"
      },
      "execution_count": null,
      "outputs": []
    },
    {
      "cell_type": "markdown",
      "source": [
        "# Defining A New Function:\n",
        "\n",
        "In python you can define your own function according to the needs of the task.\n",
        "\n",
        "It is done by \"def\" keyword:"
      ],
      "metadata": {
        "id": "FFSqtldkjaT5"
      }
    },
    {
      "cell_type": "code",
      "source": [
        "def new_Function () :\n",
        "    print(\"Hello\")\n",
        "\n",
        "new_Function()"
      ],
      "metadata": {
        "id": "s8nJyBEZjUu4"
      },
      "execution_count": null,
      "outputs": []
    },
    {
      "cell_type": "code",
      "source": [
        "def Addition (a,b):\n",
        "    c= a + b\n",
        "    print (c)\n",
        "\n",
        "Addition(30, 30.5)"
      ],
      "metadata": {
        "id": "76jxFD1njUxp"
      },
      "execution_count": null,
      "outputs": []
    },
    {
      "cell_type": "code",
      "source": [
        "Addition(\"Hi! \", \"My name is _________\")"
      ],
      "metadata": {
        "id": "DnuNdBmIjU0X"
      },
      "execution_count": null,
      "outputs": []
    },
    {
      "cell_type": "code",
      "source": [
        "Addition(35.5,87.6)"
      ],
      "metadata": {
        "id": "OCyth3Pci6Qw"
      },
      "execution_count": null,
      "outputs": []
    },
    {
      "cell_type": "code",
      "source": [
        "#Create a function that takes a string as a parameter and returns the first and last characters of the string.\n"
      ],
      "metadata": {
        "id": "plCCXJkRjoFE"
      },
      "execution_count": null,
      "outputs": []
    },
    {
      "cell_type": "code",
      "source": [
        "#Solution:\n",
        "\n",
        "def func_string(a):\n",
        "\n",
        "  return a[0], a[-1]\n",
        "\n",
        "func_string(\"Homework\")"
      ],
      "metadata": {
        "id": "fQisB_u2joHx"
      },
      "execution_count": null,
      "outputs": []
    },
    {
      "cell_type": "code",
      "source": [
        "def mult (a, b):\n",
        "    return a*b\n",
        "\n",
        "def summ(a,b):\n",
        "    return a+b\n",
        "\n",
        "def division (a,b):\n",
        "    return a/b\n",
        "\n",
        "def subtr (a,b) :\n",
        "    return a-b\n",
        "\n",
        "\n",
        "\n",
        "x = mult(4.5,2)\n",
        "y = summ (\"enis\",\"yazici\")\n",
        "z = division(80,4)\n",
        "t = subtr(15,20)\n",
        "print(x)\n",
        "print(y)\n",
        "print(z)\n",
        "print(t)"
      ],
      "metadata": {
        "id": "g89xe9O4joKn"
      },
      "execution_count": null,
      "outputs": []
    },
    {
      "cell_type": "markdown",
      "source": [
        "## **return** Statement\n",
        "A function with a return statement is very common with the concept of a function in the mathematical sense:\n",
        "\n",
        "                                 y=f(x)\n",
        "whereby\n",
        "\n",
        "f: function name\\\n",
        "x: arguments \\\n",
        "y: return value"
      ],
      "metadata": {
        "id": "cBF-hS4Mj55X"
      }
    },
    {
      "cell_type": "code",
      "source": [
        "def add_multiply(number1, number2):\n",
        "    return number1 + number2 , number1 * number2\n",
        "\n",
        "a = add_multiply(4,10)\n",
        "print(a)\n",
        "print (type(a))\n",
        "print(a[0], a[1])\n"
      ],
      "metadata": {
        "id": "V15fQEtVjoNS"
      },
      "execution_count": null,
      "outputs": []
    },
    {
      "cell_type": "code",
      "source": [
        "newParameter = add_multiply(5,50)\n",
        "newParameter1, newParameter2  = add_multiply(4,10)\n",
        "\n",
        "print(newParameter1, newParameter2)\n",
        "print (type(newParameter))\n",
        "print (type(newParameter1))\n",
        "print (type(newParameter2))"
      ],
      "metadata": {
        "id": "z7abC5jDjoPk"
      },
      "execution_count": null,
      "outputs": []
    },
    {
      "cell_type": "markdown",
      "source": [
        "## **Task**:\n",
        "\n",
        "1. Write a function that takes the radius of a circle as a parameter and calculates the area of the circle.\n",
        "\n",
        "2. Write a function that takes three numbers as input parameters and orders those numbers from smaller to larger."
      ],
      "metadata": {
        "id": "CPFPkDeMkM2y"
      }
    },
    {
      "cell_type": "code",
      "source": [],
      "metadata": {
        "id": "vt_pvFfFjoSe"
      },
      "execution_count": null,
      "outputs": []
    },
    {
      "cell_type": "code",
      "source": [],
      "metadata": {
        "id": "jByFNhZwjoVh"
      },
      "execution_count": null,
      "outputs": []
    },
    {
      "cell_type": "code",
      "source": [],
      "metadata": {
        "id": "_JXTSavUlQ5d"
      },
      "execution_count": null,
      "outputs": []
    },
    {
      "cell_type": "code",
      "source": [],
      "metadata": {
        "id": "cb4J-7TolQ8V"
      },
      "execution_count": null,
      "outputs": []
    },
    {
      "cell_type": "markdown",
      "source": [
        "# ***Reading and Creating Data Files in Python***"
      ],
      "metadata": {
        "id": "VgNJp27DlRHE"
      }
    },
    {
      "cell_type": "code",
      "source": [
        "with open(\"example.txt\", \"w\") as text:\n",
        "  text.write(\"Name: \\nAddress: \\nAge: \\nOccupation:\")\n",
        "text.close()"
      ],
      "metadata": {
        "id": "Xg6oo0kGlSEQ"
      },
      "execution_count": null,
      "outputs": []
    },
    {
      "cell_type": "code",
      "source": [
        "dat = open(\"example.txt\",\"r\")\n",
        "for i in dat:\n",
        "    print(i.rstrip())\n",
        "dat.close()"
      ],
      "metadata": {
        "id": "-stRGr5ulkId"
      },
      "execution_count": null,
      "outputs": []
    },
    {
      "cell_type": "code",
      "source": [
        "# Readlines() Function:\n",
        "\n",
        "text = open(\"example.txt\").readlines()\n",
        "print(text)\n",
        "print(type(text))"
      ],
      "metadata": {
        "id": "idpd8I3Ulvla"
      },
      "execution_count": null,
      "outputs": []
    },
    {
      "cell_type": "code",
      "source": [
        "print(text[1])"
      ],
      "metadata": {
        "id": "eBxwfzKll4P8"
      },
      "execution_count": null,
      "outputs": []
    },
    {
      "cell_type": "code",
      "source": [
        "# Read() Function:\n",
        "\n",
        "text = open(\"example.txt\").read()\n",
        "print(text[0:20])\n"
      ],
      "metadata": {
        "id": "izkPD_b-l_B4"
      },
      "execution_count": null,
      "outputs": []
    },
    {
      "cell_type": "code",
      "source": [
        "type(text)"
      ],
      "metadata": {
        "id": "CjqJNkCbmDkK"
      },
      "execution_count": null,
      "outputs": []
    },
    {
      "cell_type": "code",
      "source": [
        "with open(\"example.txt\", 'a') as addLines:\n",
        "  addLines.write(\"This is the last line \\n\")\n",
        "\n",
        "text = open(\"example.txt\").read()\n",
        "print(text)"
      ],
      "metadata": {
        "id": "qEv4kTHOmIwX"
      },
      "execution_count": null,
      "outputs": []
    },
    {
      "cell_type": "code",
      "source": [
        "# Copy file to another\n",
        "\n",
        "with open('example.txt','r') as rf:\n",
        "    with open('Example2.txt','w') as wf:\n",
        "          for x in rf:\n",
        "\n",
        "                wf.write(x)"
      ],
      "metadata": {
        "id": "8oqInHQ1mZHk"
      },
      "execution_count": null,
      "outputs": []
    },
    {
      "cell_type": "markdown",
      "source": [
        "# Comma Separated Values (CSV) file Read with Python\n",
        "\n",
        "The data is separated by commas in one file. The names of the data columns are usually stored in the first line."
      ],
      "metadata": {
        "id": "5Cr_A2DemUWs"
      }
    },
    {
      "cell_type": "code",
      "source": [
        "import csv\n",
        "\n",
        "with open('my_first_CSVData.csv', mode='w') as myData:\n",
        "    myData = csv.writer(myData, delimiter=',', quotechar='\"', quoting=csv.QUOTE_MINIMAL)\n",
        "\n",
        "    myData.writerow([ 'Name' ,'Job' , 'Birth month'])\n",
        "    myData.writerow(['Ironman', 'Bussinessman', 'November'])\n",
        "    myData.writerow(['Thor', 'Prince', 'February'])\n",
        "    myData.writerow(['Hulk', 'Scientist', 'January'])\n",
        "    myData.writerow(['Captain Marvel', 'Pilot', 'June'])\n",
        "    myData.writerow(['Enis','Physicist','Jan'])"
      ],
      "metadata": {
        "id": "E3EFjsfBmI2o"
      },
      "execution_count": null,
      "outputs": []
    },
    {
      "cell_type": "code",
      "source": [],
      "metadata": {
        "id": "4YtIUOnnmI51"
      },
      "execution_count": null,
      "outputs": []
    },
    {
      "cell_type": "code",
      "source": [
        "import csv\n",
        "\n",
        "with open('my_second__CSVdata.csv', mode='w') as Data_:\n",
        "    fields = ['Name', 'Job', 'Birth month']\n",
        "    writer = csv.DictWriter(Data_, fieldnames=fields)\n",
        "\n",
        "    writer.writeheader()\n",
        "    writer.writerow({'Name': 'Ironman', 'Job': 'Bussinessman', 'Birth month': 'November'})\n",
        "    writer.writerow({'Name': 'Thor', 'Job': 'Prince', 'Birth month': 'February'})\n",
        "    writer.writerow({'Name': 'Hulk', 'Job': 'Physicist', 'Birth month': 'January'})\n",
        "    writer.writerow({'Name': 'Captain Marvel', 'Job': 'Pilot', 'Birth month': 'June'})"
      ],
      "metadata": {
        "id": "dHBN8QTKmI9L"
      },
      "execution_count": null,
      "outputs": []
    },
    {
      "cell_type": "code",
      "source": [],
      "metadata": {
        "id": "TYpKtUfCmuqT"
      },
      "execution_count": null,
      "outputs": []
    },
    {
      "cell_type": "markdown",
      "source": [
        "# Solving Mathematical Equations in Python"
      ],
      "metadata": {
        "id": "i46l5HBonemm"
      }
    },
    {
      "cell_type": "code",
      "source": [
        "#Import Symbolic Python\n",
        "\n",
        "# First we import the Python module: sympy\n",
        "# Then we use the functions from this module : symbols, Eq (Equation), solve\n",
        "\n",
        "from sympy import symbols, Eq, solve\n",
        "\n",
        "x = symbols(\"x\")\n",
        "\n",
        "# Our equation is: 2x + 5 = 10\n",
        "\n",
        "# x^3 = 8\n",
        "\n",
        "equation = Eq( x*x*x , -8 )\n",
        "\n",
        "\n",
        "result = solve(equation, x)\n",
        "\n",
        "print (result)"
      ],
      "metadata": {
        "id": "kZK63PQCnihG"
      },
      "execution_count": null,
      "outputs": []
    },
    {
      "cell_type": "code",
      "source": [
        "# Solving two Equations:\n",
        "\n",
        "# Equation I : a + b = 10\n",
        "# Equation II : a + 2b = 5\n",
        "\n",
        "a , b = symbols(\"a b\")\n",
        "\n",
        "equ1 = Eq(a+b , 10)\n",
        "\n",
        "equ2 = Eq(a+2*b , 5)\n",
        "\n",
        "result = solve ( (equ1,equ2) , (a,b) )\n",
        "\n",
        "print (result)"
      ],
      "metadata": {
        "id": "JQWt0Mi7nlI3"
      },
      "execution_count": null,
      "outputs": []
    },
    {
      "cell_type": "code",
      "source": [
        "# Equation I : a + b = 10\n",
        "# Equation II : a + 2b + c = 5\n",
        "#Equation III : a + b + c = 1\n",
        "\n",
        "\n",
        "a , b , c = symbols(\"a b c\")\n",
        "\n",
        "equ1= Eq (a+b , 10)\n",
        "\n",
        "equ2= Eq (a+2*b + c , 5)\n",
        "\n",
        "equ3 = Eq (a+b+c , 1)\n",
        "\n",
        "\n",
        "result = solve ( (equ1, equ2, equ3), (a,b,c) )\n",
        "\n",
        "print (result)"
      ],
      "metadata": {
        "id": "4NEgLfH3nnku"
      },
      "execution_count": null,
      "outputs": []
    },
    {
      "cell_type": "code",
      "source": [
        "# Create graphs from algebraic expressions\n",
        "\n",
        "from sympy import Symbol, plot\n",
        "\n",
        "x = Symbol('x')\n",
        "\n",
        "expr = input('Enter an expression in x to graph: ')\n",
        "\n",
        "plot(expr)"
      ],
      "metadata": {
        "id": "dT0TNaRHnppV"
      },
      "execution_count": null,
      "outputs": []
    }
  ]
}