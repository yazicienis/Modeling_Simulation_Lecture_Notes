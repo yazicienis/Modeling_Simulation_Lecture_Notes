{
 "cells": [
  {
   "cell_type": "markdown",
   "id": "31f18a7e",
   "metadata": {},
   "source": [
    "# My Final Report\n",
    "\n",
    "This cell contains the report.\n",
    "\n",
    "## Introduction\n",
    "\n",
    "This is aout modeling and simulation of an RLC Circuit\n",
    "\n",
    "### RLC Circuit\n",
    "\n",
    "An **RLC** Circuit is a typical example in electrical engineering.\n",
    "\n"
   ]
  },
  {
   "cell_type": "code",
   "execution_count": 1,
   "id": "adc3b2a8",
   "metadata": {},
   "outputs": [],
   "source": [
    "def function (a,b):\n",
    "    return a*b"
   ]
  },
  {
   "cell_type": "code",
   "execution_count": 2,
   "id": "08ee0770",
   "metadata": {},
   "outputs": [
    {
     "data": {
      "text/plain": [
       "15"
      ]
     },
     "execution_count": 2,
     "metadata": {},
     "output_type": "execute_result"
    }
   ],
   "source": [
    "function(3,5)"
   ]
  },
  {
   "cell_type": "code",
   "execution_count": 3,
   "id": "1811d543",
   "metadata": {},
   "outputs": [],
   "source": [
    "# this code simulates an RLC circuit\n",
    "\n",
    "R= 10\n",
    "L =1"
   ]
  },
  {
   "cell_type": "markdown",
   "id": "33829a0f",
   "metadata": {},
   "source": [
    "# Important Concepts in Machine Learning\n",
    "\n",
    "## Supervised Learning\n",
    "- Regression\n",
    "- Classification\n",
    "\n",
    "## Unsupervised Learning\n",
    "- Clustering\n",
    "- Dimensionality Reduction\n",
    "\n",
    "## Evaluation Metrics\n",
    "- Accuracy\n",
    "- Precision\n",
    "- Recall\n"
   ]
  },
  {
   "cell_type": "markdown",
   "id": "4396bfef",
   "metadata": {},
   "source": [
    "# Introduction to Data Visualization with Matplotlib\n",
    "\n",
    "Data visualization plays a crucial role in understanding patterns and trends in data. In this article, we will explore the basics of data visualization using the Matplotlib library in Python.\n",
    "\n",
    "## Line Plot\n",
    "\n",
    "To create a line plot, we can use the `plot` function in Matplotlib. Here's an example:\n",
    "\n",
    "```python\n",
    "import matplotlib.pyplot as plt\n",
    "\n",
    "x = [1, 2, 3, 4, 5]\n",
    "y = [2, 4, 6, 8, 10]\n",
    "\n",
    "plt.plot(x, y)\n",
    "plt.xlabel('X-axis')\n",
    "plt.ylabel('Y-axis')\n",
    "plt.title('Line Plot Example')\n",
    "plt.show()\n"
   ]
  },
  {
   "cell_type": "markdown",
   "id": "3efdb849",
   "metadata": {},
   "source": [
    "\n",
    "3. Equations:\n",
    "Jupyter Notebooks support mathematical equations using MathJax. Here's an example of an equation written in LaTeX syntax within a markdown cell:\n",
    "\n",
    "\n",
    "# Newton's Second Law of Motion\n",
    "\n",
    "According to Newton's second law of motion, the force ($F$) acting on an object is equal to the mass ($m$) of the object multiplied by its acceleration ($a$). Mathematically, it can be represented as:\n",
    "\n",
    "$$F = m \\cdot a$$\n",
    "\n",
    "$$ F_B = V \\times I$$\n",
    "\n",
    "$$ 10^{-5}$$\n"
   ]
  },
  {
   "cell_type": "markdown",
   "id": "585b32c4",
   "metadata": {},
   "source": [
    "# Exploring Natural Wonders\n",
    "\n",
    "## The Grand Canyon\n",
    "\n",
    "The Grand Canyon is a magnificent natural wonder. Here's an image showcasing its breathtaking beauty:\n",
    "\n",
    "![Grand Canyon](https://people.com/thmb/IHdL1Ek8x8vs2d24ABSTqrMLePw=/1500x0/filters:no_upscale():max_bytes(150000):strip_icc():focal(999x0:1001x2)/grand-canyon-heat-death-070523-4f5c1cdc7abe493985e7e31d043635ce.jpg)\n",
    "\n",
    "To learn more about the Grand Canyon, visit the [National Park Service website](https://www.nps.gov/grca/index.htm).\n"
   ]
  },
  {
   "cell_type": "markdown",
   "id": "c3c1c03b",
   "metadata": {},
   "source": [
    "# Heading 1\n",
    "## Heading 2\n",
    "### Heading 3\n"
   ]
  },
  {
   "cell_type": "markdown",
   "id": "4091071a",
   "metadata": {},
   "source": [
    "Bold Text: Surround the text with double asterisks or double underscores. For example: **Bold Text** or __Bold Text__.\n",
    "\n",
    "Italic Text: Surround the text with single asterisks or single underscores. For example: *Italic Text* or _Italic Text_.\n",
    "\n",
    "Strikethrough: Add two tildes (~) on both sides of the text. For example: ~~Strikethrough~~."
   ]
  },
  {
   "cell_type": "markdown",
   "id": "0a4d4ccc",
   "metadata": {},
   "source": [
    "## Ordered List\n",
    "\n",
    "- Item 1\n",
    "- Item 2\n",
    "  - Subitem 1\n",
    "  - Subitem 2\n",
    "- Item 3\n",
    "\n",
    "\n",
    "\n",
    "1. First item\n",
    "2. Second item\n",
    "3. Third item\n"
   ]
  },
  {
   "cell_type": "markdown",
   "id": "54770bc2",
   "metadata": {},
   "source": [
    "Visit [OpenAI's website](https://www.openai.com) for more information.\n"
   ]
  },
  {
   "cell_type": "markdown",
   "id": "a1b56e68",
   "metadata": {},
   "source": [
    "### Block Quotes\n",
    "\n",
    "> \"The greatest glory in living lies not in never falling, but in rising every time we fall.\" - Nelson Mandela\n"
   ]
  },
  {
   "cell_type": "markdown",
   "id": "fb3743d3",
   "metadata": {},
   "source": [
    "Einstein's mass-energy equivalence equation is given by: \n",
    "$$E = mc^2$$\n",
    "\n",
    "where:\n",
    "- $E$ is the energy,\n",
    "- $m$ is the mass, and\n",
    "- $c$ is the speed of light.\n"
   ]
  },
  {
   "cell_type": "markdown",
   "id": "448159e4",
   "metadata": {},
   "source": [
    "The probability of selecting $k$ successes from $n$ trials can be calculated using the binomial coefficient formula:\n",
    "\n",
    "$$P(X=k) = \\binom{n}{k} p^k (1-p)^{n-k}$$\n",
    "\n",
    "where:\n",
    "- $P(X=k)$ is the probability of getting $k$ successes,\n",
    "- $p$ is the probability of success in a single trial,\n",
    "- $n$ is the total number of trials, and\n",
    "- $\\binom{n}{k}$ is the binomial coefficient representing the number of ways to choose $k$ successes from $n$ trials.\n"
   ]
  },
  {
   "cell_type": "markdown",
   "id": "5c33f5f5",
   "metadata": {},
   "source": [
    "The area of a circle with radius $r$ can be calculated using the formula:\n",
    "\n",
    "$$A = \\pi r^2$$\n",
    "\n",
    "where $\\pi$ is the mathematical constant pi.\n"
   ]
  },
  {
   "cell_type": "markdown",
   "id": "748a71ee",
   "metadata": {},
   "source": [
    "The sum of the first $n$ natural numbers can be expressed using the summation notation:\n",
    "\n",
    "$$\\sum_{i=1}^{n} i = 1 + 2 + 3 + \\ldots + n$$\n",
    "\n",
    "The definite integral of a function $f(x)$ over the interval $[a, b]$ is denoted by:\n",
    "\n",
    "$$\\int_{a}^{b} f(x) \\, dx$$\n"
   ]
  },
  {
   "cell_type": "markdown",
   "id": "f5eb1d44",
   "metadata": {},
   "source": [
    "A vector can be represented as:\n",
    "\n",
    "$$\\mathbf{v} = \\begin{pmatrix} v_1 \\\\ v_2 \\\\ \\vdots \\\\ v_n \\end{pmatrix}$$\n",
    "\n",
    "A matrix can be represented as:\n",
    "\n",
    "$$\\mathbf{A} = \\begin{pmatrix} a_{11} & a_{12} & \\ldots & a_{1n} \\\\ a_{21} & a_{22} & \\ldots & a_{2n} \\\\ \\vdots & \\vdots & \\ddots & \\vdots \\\\ a_{m1} & a_{m2} & \\ldots & a_{mn} \\end{pmatrix}$$\n"
   ]
  },
  {
   "cell_type": "code",
   "execution_count": null,
   "id": "7fa4c3a6",
   "metadata": {},
   "outputs": [],
   "source": []
  }
 ],
 "metadata": {
  "kernelspec": {
   "display_name": "Python 3 (ipykernel)",
   "language": "python",
   "name": "python3"
  },
  "language_info": {
   "codemirror_mode": {
    "name": "ipython",
    "version": 3
   },
   "file_extension": ".py",
   "mimetype": "text/x-python",
   "name": "python",
   "nbconvert_exporter": "python",
   "pygments_lexer": "ipython3",
   "version": "3.10.9"
  }
 },
 "nbformat": 4,
 "nbformat_minor": 5
}
