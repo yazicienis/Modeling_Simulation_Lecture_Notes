{
  "nbformat": 4,
  "nbformat_minor": 0,
  "metadata": {
    "colab": {
      "provenance": [],
      "authorship_tag": "ABX9TyNEx/YSmvUXq0RN4ObFsa8I",
      "include_colab_link": true
    },
    "kernelspec": {
      "name": "python3",
      "display_name": "Python 3"
    },
    "language_info": {
      "name": "python"
    }
  },
  "cells": [
    {
      "cell_type": "markdown",
      "metadata": {
        "id": "view-in-github",
        "colab_type": "text"
      },
      "source": [
        "<a href=\"https://colab.research.google.com/github/yazicienis/Modeling_Simulation_Lecture_Notes/blob/main/3_Matplotlib_Numpy_SciPy_Examples.ipynb\" target=\"_parent\"><img src=\"https://colab.research.google.com/assets/colab-badge.svg\" alt=\"Open In Colab\"/></a>"
      ]
    },
    {
      "cell_type": "code",
      "source": [
        "# Example 1: Drawing a Single Graph\n",
        "\n",
        "import matplotlib.pyplot as plt\n",
        "import numpy as np\n",
        "\n",
        "# Create a range of x values from 0 to 2*pi\n",
        "x = np.linspace(0, 2*np.pi, 100)\n",
        "\n",
        "# Create y values as the sine of x\n",
        "y = np.sin(x)\n",
        "\n",
        "# Create the plot\n",
        "plt.plot(x, y)\n",
        "\n",
        "# Set the title and labels\n",
        "plt.title('Simple Sine Wave')\n",
        "plt.xlabel('x values')\n",
        "plt.ylabel('sin(x)')\n",
        "\n",
        "# Show the plot\n",
        "plt.show()\n"
      ],
      "metadata": {
        "id": "PUHLhAn7MpD7"
      },
      "execution_count": null,
      "outputs": []
    },
    {
      "cell_type": "code",
      "source": [
        "# Example 2: Drawing Multiple Graphs on the Same Plot\n",
        "\n",
        "import matplotlib.pyplot as plt\n",
        "import numpy as np\n",
        "\n",
        "# Create a range of x values\n",
        "x = np.linspace(0, 2*np.pi, 100)\n",
        "\n",
        "# Create y values for sine and cosine functions\n",
        "y1 = np.sin(x)\n",
        "y2 = np.cos(x)\n",
        "\n",
        "# Create the plot for sin(x)\n",
        "plt.plot(x, y1, label='sin(x)')\n",
        "\n",
        "# Create the plot for cos(x)\n",
        "plt.plot(x, y2, label='cos(x)')\n",
        "\n",
        "# Set the title and labels\n",
        "plt.title('Sine and Cosine Waves')\n",
        "plt.xlabel('x values')\n",
        "plt.ylabel('y values')\n",
        "\n",
        "# Add a legend\n",
        "plt.legend()\n",
        "\n",
        "# Show the plot\n",
        "plt.show()\n"
      ],
      "metadata": {
        "id": "c-L8NggtMqFB"
      },
      "execution_count": null,
      "outputs": []
    },
    {
      "cell_type": "code",
      "source": [
        "# Example 3: Scaling the Axes\n",
        "\n",
        "import matplotlib.pyplot as plt\n",
        "import numpy as np\n",
        "\n",
        "# Create a range of x values\n",
        "x = np.linspace(0, 2*np.pi, 100)\n",
        "\n",
        "# Create y values for a sine function\n",
        "y = np.sin(x)\n",
        "\n",
        "# Create the plot\n",
        "plt.plot(x, y)\n",
        "\n",
        "# Set the title and labels\n",
        "plt.title('Sine Wave with Scaled Axes')\n",
        "plt.xlabel('x values')\n",
        "plt.ylabel('sin(x)')\n",
        "\n",
        "# Scale the x and y axes\n",
        "plt.xlim([0, 2*np.pi])\n",
        "plt.ylim([-2, 2])\n",
        "\n",
        "# Show the plot\n",
        "plt.show()\n"
      ],
      "metadata": {
        "id": "EsAEX5CdMqHo"
      },
      "execution_count": null,
      "outputs": []
    },
    {
      "cell_type": "code",
      "source": [
        "# Example 4: Zooming in on a Specific Area of the Graph\n",
        "\n",
        "import matplotlib.pyplot as plt\n",
        "import numpy as np\n",
        "\n",
        "# Create a range of x values\n",
        "x = np.linspace(0, 2*np.pi, 100)\n",
        "\n",
        "# Create y values for a sine function\n",
        "y = np.sin(x)\n",
        "\n",
        "# Create the plot\n",
        "plt.plot(x, y)\n",
        "\n",
        "# Set the title and labels\n",
        "plt.title('Zoomed in Sine Wave')\n",
        "plt.xlabel('x values')\n",
        "plt.ylabel('sin(x)')\n",
        "\n",
        "# Zoom in on a specific area of the graph\n",
        "plt.xlim([0, np.pi/2])\n",
        "plt.ylim([0, 1])\n",
        "\n",
        "# Show the plot\n",
        "plt.show()\n"
      ],
      "metadata": {
        "id": "51os9j7wMqKL"
      },
      "execution_count": null,
      "outputs": []
    },
    {
      "cell_type": "code",
      "source": [
        "# Example 5: Filling Graphs with Colors\n",
        "\n",
        "import matplotlib.pyplot as plt\n",
        "import numpy as np\n",
        "\n",
        "# Create a range of x values\n",
        "x = np.linspace(0, 2*np.pi, 100)\n",
        "\n",
        "# Create y values for a sine function\n",
        "y = np.sin(x)\n",
        "\n",
        "# Create the plot\n",
        "plt.plot(x, y)\n",
        "\n",
        "# Fill the area under the plot\n",
        "plt.fill_between(x,  y, color='skyblue')\n",
        "\n",
        "# Set the title and labels\n",
        "plt.title('Sine Wave with Filled Area')\n",
        "plt.xlabel('x values')\n",
        "plt.ylabel('sin(x)')\n",
        "\n",
        "# Show the plot\n",
        "plt.show()\n"
      ],
      "metadata": {
        "id": "ihlVlyMBMqMZ"
      },
      "execution_count": null,
      "outputs": []
    },
    {
      "cell_type": "code",
      "source": [
        "plt.fill_between(x,  y/2, y, color='green')\n"
      ],
      "metadata": {
        "id": "-l8NZ0CDMqOz"
      },
      "execution_count": null,
      "outputs": []
    },
    {
      "cell_type": "code",
      "source": [
        "# Example 6: Drawing Discrete Signals\n",
        "\n",
        "import matplotlib.pyplot as plt\n",
        "import numpy as np\n",
        "\n",
        "# Create a range of x values\n",
        "x = np.arange(10)\n",
        "\n",
        "# Create some y values\n",
        "y = np.random.randint(0,10,10)\n",
        "\n",
        "# Create a stem plot (often used for discrete signals)\n",
        "plt.stem(x, y)\n",
        "\n",
        "# Set the title and labels\n",
        "plt.title('Example of a Discrete Signal')\n",
        "plt.xlabel('n')\n",
        "plt.ylabel('y[n]')\n",
        "\n",
        "# Show the plot\n",
        "plt.show()\n"
      ],
      "metadata": {
        "id": "3qgUQPLXMqRC"
      },
      "execution_count": null,
      "outputs": []
    },
    {
      "cell_type": "code",
      "source": [
        "# Example 7: Adding Grids to Your Graph\n",
        "\n",
        "import matplotlib.pyplot as plt\n",
        "import numpy as np\n",
        "\n",
        "# Create a range of x values\n",
        "x = np.linspace(0, 2*np.pi, 100)\n",
        "\n",
        "# Create y values for a sine function\n",
        "y = np.sin(x)\n",
        "\n",
        "# Create the plot\n",
        "plt.plot(x, y)\n",
        "\n",
        "# Set the title and labels\n",
        "plt.title('Sine Wave with Grid')\n",
        "plt.xlabel('x values')\n",
        "plt.ylabel('sin(x)')\n",
        "\n",
        "# Add grid\n",
        "plt.grid(True)\n",
        "\n",
        "# Show the plot\n",
        "plt.show()\n"
      ],
      "metadata": {
        "id": "g0glZRwwMqTJ"
      },
      "execution_count": null,
      "outputs": []
    },
    {
      "cell_type": "code",
      "source": [
        "# Example 8: Scatter Plot\n",
        "\n",
        "import matplotlib.pyplot as plt\n",
        "import numpy as np\n",
        "\n",
        "# Create some x and y values\n",
        "x = np.random.rand(100)\n",
        "y = np.random.rand(100)\n",
        "\n",
        "# Create a scatter plot\n",
        "plt.scatter(x, y)\n",
        "\n",
        "# Set the title and labels\n",
        "plt.title('Random Scatter Plot')\n",
        "plt.xlabel('x')\n",
        "plt.ylabel('y')\n",
        "\n",
        "# Show the plot\n",
        "plt.show()\n"
      ],
      "metadata": {
        "id": "ZV8noQcVMqU8"
      },
      "execution_count": null,
      "outputs": []
    },
    {
      "cell_type": "markdown",
      "source": [
        "# NumPy Examples"
      ],
      "metadata": {
        "id": "I1ZigE3jOoKJ"
      }
    },
    {
      "cell_type": "code",
      "source": [
        "# Example 1: Basic Operations\n",
        "\n",
        "import numpy as np\n",
        "\n",
        "# Create a numpy array\n",
        "a = np.array([1, 2, 3, 4, 5])\n",
        "\n",
        "# Print basic operations\n",
        "print(\"Addition: \", a + 10)\n",
        "print(\"Multiplication: \", a * 2)\n",
        "print(\"Exponentiation: \", a**2)\n"
      ],
      "metadata": {
        "id": "xdmpwOOtOS-p"
      },
      "execution_count": null,
      "outputs": []
    },
    {
      "cell_type": "code",
      "source": [
        "# Example 2: Multi-dimensional Arrays\n",
        "\n",
        "import numpy as np\n",
        "\n",
        "# Create a two-dimensional array (matrix)\n",
        "a = np.array([[1, 2, 3], [4, 5, 6], [7, 8, 9]])\n",
        "\n",
        "# Print the matrix\n",
        "print(\"Matrix:\\n\", a)\n",
        "\n",
        "# Access elements\n",
        "print(\"Element at (2, 3): \", a[1, 2])  # Remember that indices start from 0\n",
        "\n",
        "# Access rows\n",
        "print(\"Second row: \", a[1])\n",
        "\n",
        "# Access columns\n",
        "print(\"Third column: \", a[:, 2])\n"
      ],
      "metadata": {
        "id": "G1AYQzPLOTBI"
      },
      "execution_count": null,
      "outputs": []
    },
    {
      "cell_type": "code",
      "source": [
        "# Example 3: Mathematical Functions\n",
        "\n",
        "import numpy as np\n",
        "\n",
        "# Create an array\n",
        "a = np.array([1, 2, 3, 4, 5])\n",
        "\n",
        "# Mathematical functions\n",
        "print(\"Sum: \", np.sum(a))\n",
        "print(\"Mean: \", np.mean(a))\n",
        "print(\"Max: \", np.max(a))\n",
        "print(\"Min: \", np.min(a))\n",
        "\n"
      ],
      "metadata": {
        "id": "2oXKahkqOTDY"
      },
      "execution_count": null,
      "outputs": []
    },
    {
      "cell_type": "code",
      "source": [
        "# Example 4: Random Numbers\n",
        "\n",
        "import numpy as np\n",
        "\n",
        "# Generate random numbers\n",
        "print(\"Random number between 0 and 1: \", np.random.rand())\n",
        "\n",
        "# Generate a random array\n",
        "print(\"Random array: \", np.random.rand(5))\n",
        "\n",
        "# Generate random integers\n",
        "print(\"Random integer between 1 and 10: \", np.random.randint(1, 10))\n"
      ],
      "metadata": {
        "id": "pJj5voXOO1G5"
      },
      "execution_count": null,
      "outputs": []
    },
    {
      "cell_type": "code",
      "source": [
        "# Example 5: Plotting a Sine Wave\n",
        "\n",
        "import numpy as np\n",
        "import matplotlib.pyplot as plt\n",
        "\n",
        "# Create an array of points\n",
        "x = np.linspace(0, 2 * np.pi, 100)  # 100 points between 0 and 2*pi\n",
        "\n",
        "# Calculate the sine of each point\n",
        "y = np.sin(x)\n",
        "\n",
        "# Plot the result\n",
        "plt.plot(x, y)\n",
        "plt.title('Sine Wave')\n",
        "plt.xlabel('x')\n",
        "plt.ylabel('y')\n",
        "plt.show()\n"
      ],
      "metadata": {
        "id": "3XSHBtBXO1Ja"
      },
      "execution_count": null,
      "outputs": []
    },
    {
      "cell_type": "code",
      "source": [
        "# Example 6: Visualizing a 2D Array (Image)\n",
        "\n",
        "import numpy as np\n",
        "import matplotlib.pyplot as plt\n",
        "\n",
        "# Create a 2D array\n",
        "a = np.random.rand(10, 10)\n",
        "\n",
        "# Plot the 2D array as an image\n",
        "plt.imshow(a, cmap='gray')\n",
        "plt.title('2D Array')\n",
        "plt.colorbar(label='Value')\n",
        "plt.show()\n"
      ],
      "metadata": {
        "id": "wYJqx5IRO1Lw"
      },
      "execution_count": null,
      "outputs": []
    },
    {
      "cell_type": "code",
      "source": [
        "# Example 7: Scatter plot with random numbers\n",
        "\n",
        "import numpy as np\n",
        "import matplotlib.pyplot as plt\n",
        "\n",
        "# Generate 100 random x and y coordinates\n",
        "x = np.random.rand(100)\n",
        "y = np.random.rand(100)\n",
        "\n",
        "# Create a scatter plot\n",
        "plt.scatter(x, y)\n",
        "plt.title('Scatter Plot')\n",
        "plt.xlabel('x')\n",
        "plt.ylabel('y')\n",
        "plt.show()\n"
      ],
      "metadata": {
        "id": "FYkM7OwRO1OI"
      },
      "execution_count": null,
      "outputs": []
    },
    {
      "cell_type": "code",
      "source": [
        "# Histograms\n",
        "\n",
        "import matplotlib.pyplot as plt\n",
        "import numpy as np\n",
        "\n",
        "# Create data: 1000 random numbers from a normal distribution\n",
        "data = np.random.randn(1000)\n",
        "\n",
        "# Create histogram\n",
        "plt.hist(data, bins=30, alpha=0.5, color='g')\n",
        "\n",
        "# Show grid\n",
        "plt.grid(True)\n",
        "\n",
        "# Set title and labels\n",
        "plt.title('Histogram Example')\n",
        "plt.xlabel('Random Data')\n",
        "plt.ylabel('Frequency')\n",
        "\n",
        "# Show the plot\n",
        "plt.show()\n"
      ],
      "metadata": {
        "id": "WlzlfBy7O1Qk"
      },
      "execution_count": null,
      "outputs": []
    },
    {
      "cell_type": "markdown",
      "source": [
        "This code creates a histogram of 1000 random numbers generated from a normal distribution.\n",
        "\n",
        "The bins=30 parameter specifies that the data should be divided into 30 bins.\n",
        "\n",
        "The alpha=0.5 parameter sets the transparency of the bars, and 'g' sets the color of the bars to green.\n",
        "\n",
        "\n",
        "\n",
        "\n",
        "\n",
        "\n",
        "The plt.grid(True) line adds a grid to the plot, and the plt.title, plt.xlabel, and plt.ylabel functions are used to add a title and labels to the x and y axes respectively. Finally, plt.show() is used to display the plot."
      ],
      "metadata": {
        "id": "tfw077dHTLDg"
      }
    },
    {
      "cell_type": "code",
      "source": [
        "# Histogram Example 2:\n",
        "\n",
        "import matplotlib.pyplot as plt\n",
        "import numpy as np\n",
        "\n",
        "# Create data: test scores for two classes (random numbers from different normal distributions)\n",
        "class_a_scores = np.random.normal(70, 10, 1000)  # mean=70, standard deviation=10\n",
        "class_b_scores = np.random.normal(75, 7, 1000)  # mean=75, standard deviation=7\n",
        "\n",
        "# Create histograms\n",
        "plt.hist(class_a_scores, bins=30, alpha=0.5, label='Class A')\n",
        "plt.hist(class_b_scores, bins=30, alpha=0.5, label='Class B')\n",
        "\n",
        "# Show grid\n",
        "plt.grid(True)\n",
        "\n",
        "# Set title and labels\n",
        "plt.title('Histogram Comparison of Test Scores')\n",
        "plt.xlabel('Score')\n",
        "plt.ylabel('Number of Students')\n",
        "\n",
        "# Add legend to differentiate Class A and Class B histograms\n",
        "plt.legend(loc='upper right')\n",
        "\n",
        "# Show the plot\n",
        "plt.show()\n"
      ],
      "metadata": {
        "id": "mc_9n1F7TtPY"
      },
      "execution_count": null,
      "outputs": []
    },
    {
      "cell_type": "markdown",
      "source": [
        "# SciPy"
      ],
      "metadata": {
        "id": "9C7IvFD2PxO5"
      }
    },
    {
      "cell_type": "code",
      "source": [
        "# Example 1: Curve Fitting\n",
        "\n",
        "import numpy as np\n",
        "from scipy.optimize import curve_fit\n",
        "import matplotlib.pyplot as plt\n",
        "\n",
        "# Define a function for the curve\n",
        "def func(x, a, b):\n",
        "    return a * np.exp(b * x)\n",
        "\n",
        "# Generate some data\n",
        "x = np.linspace(0, 3, 50)\n",
        "y = func(x, 2.5, 1.3) + 5 * np.random.normal(size=len(x))\n",
        "\n",
        "# Fit the curve\n",
        "popt, pcov = curve_fit(func, x, y)\n",
        "\n",
        "# Plot the data and the fit\n",
        "plt.scatter(x, y)\n",
        "plt.plot(x, func(x, *popt), 'r')\n",
        "plt.title('Curve Fitting')\n",
        "plt.xlabel('x')\n",
        "plt.ylabel('y')\n",
        "plt.show()\n"
      ],
      "metadata": {
        "id": "NF0IZCasO1SZ"
      },
      "execution_count": null,
      "outputs": []
    },
    {
      "cell_type": "code",
      "source": [
        "# Example 2: Solving Differential Equations\n",
        "\n",
        "import numpy as np\n",
        "from scipy.integrate import odeint\n",
        "import matplotlib.pyplot as plt\n",
        "\n",
        "# Define the ODE\n",
        "def func(y, t):\n",
        "    dydt = -2 * y\n",
        "    return dydt\n",
        "\n",
        "# Initial condition\n",
        "y0 = 5\n",
        "\n",
        "# Time array\n",
        "t = np.linspace(0, 5, 100)\n",
        "\n",
        "# Solve the ODE\n",
        "y = odeint(func, y0, t)  # Here, odeint is used to solve an ordinary differential equation (ODE). This function is often used in simulation to model time-dependent systems.\n",
        "\n",
        "# Plot the solution\n",
        "plt.plot(t, y)\n",
        "plt.title('ODE Solution')\n",
        "plt.xlabel('t')\n",
        "plt.ylabel('y')\n",
        "plt.show()\n",
        "\n"
      ],
      "metadata": {
        "id": "bVZOR13jQQS5"
      },
      "execution_count": null,
      "outputs": []
    },
    {
      "cell_type": "code",
      "source": [
        "# Example 3: Fourier Transform\n",
        "\n",
        "import numpy as np\n",
        "from scipy.fft import fft\n",
        "import matplotlib.pyplot as plt\n",
        "\n",
        "# Number of sample points\n",
        "N = 600\n",
        "# sample spacing\n",
        "T = 1.0 / 800.0\n",
        "x = np.linspace(0.0, N*T, N)\n",
        "y = np.sin(50.0 * 2.0*np.pi*x) + 0.5*np.sin(80.0 * 2.0*np.pi*x)\n",
        "yf = fft(y)\n",
        "xf = np.linspace(0.0, 1.0/(2.0*T), N//2)\n",
        "plt.plot(xf, 2.0/N * np.abs(yf[0:N//2]))\n",
        "plt.title('Fourier Transform')\n",
        "plt.xlabel('Frequency')\n",
        "plt.ylabel('Magnitude')\n",
        "plt.grid()\n",
        "plt.show()\n"
      ],
      "metadata": {
        "id": "zE9f5ThEQQVY"
      },
      "execution_count": null,
      "outputs": []
    },
    {
      "cell_type": "code",
      "source": [
        "# Subplots\n",
        "\n",
        "import numpy as np\n",
        "import matplotlib.pyplot as plt\n",
        "\n",
        "# Create some data\n",
        "x = np.linspace(0, 2 * np.pi, 400)\n",
        "y1 = np.sin(x)\n",
        "y2 = np.cos(x)\n",
        "\n",
        "fig, axs = plt.subplots(2)\n",
        "fig.suptitle('Vertically stacked subplots')\n",
        "axs[0].plot(x, y1, 'r')\n",
        "axs[0].set_title('Sin(x)')\n",
        "axs[1].plot(x, y2, 'b')\n",
        "axs[1].set_title('Cos(x)')\n",
        "plt.show()\n"
      ],
      "metadata": {
        "id": "PPnFBN5UQQX7"
      },
      "execution_count": null,
      "outputs": []
    },
    {
      "cell_type": "code",
      "source": [
        "fig, axs = plt.subplots(2)\n",
        "fig.suptitle('Vertically stacked subplots')\n",
        "axs[0].plot(x, y1, 'r')\n",
        "axs[0].set_title('Sin(x)')\n",
        "axs[1].plot(x, y2, 'b')\n",
        "axs[1].set_title('Cos(x)')\n",
        "fig.tight_layout()\n",
        "plt.show()\n",
        "\n"
      ],
      "metadata": {
        "id": "OKrG4dsWQQai"
      },
      "execution_count": null,
      "outputs": []
    },
    {
      "cell_type": "code",
      "source": [
        "# Example 2: Grid of subplots\n",
        "\n",
        "import numpy as np\n",
        "import matplotlib.pyplot as plt\n",
        "\n",
        "# Create some data\n",
        "x = np.linspace(0, 2 * np.pi, 400)\n",
        "y1 = np.sin(x)\n",
        "y2 = np.cos(x)\n",
        "y3 = np.tan(x)\n",
        "y4 = np.sinh(x)\n",
        "\n",
        "fig, axs = plt.subplots(2, 2)\n",
        "fig.suptitle('Grid of subplots')\n",
        "axs[0, 0].plot(x, y1, 'r')\n",
        "axs[0, 0].set_title('Sin(x)')\n",
        "axs[0, 1].plot(x, y2, 'b')\n",
        "axs[0, 1].set_title('Cos(x)')\n",
        "axs[1, 0].plot(x, y3, 'g')\n",
        "axs[1, 0].set_title('Tan(x)')\n",
        "axs[1, 1].plot(x, y4, 'y')\n",
        "axs[1, 1].set_title('Sinh(x)')\n",
        "\n",
        "fig.tight_layout()\n",
        "\n",
        "plt.show()\n"
      ],
      "metadata": {
        "id": "3McDLT_cRxfp"
      },
      "execution_count": null,
      "outputs": []
    },
    {
      "cell_type": "code",
      "source": [],
      "metadata": {
        "id": "IvDSUGFFRxmw"
      },
      "execution_count": null,
      "outputs": []
    },
    {
      "cell_type": "code",
      "source": [],
      "metadata": {
        "id": "3We37_PcRxpI"
      },
      "execution_count": null,
      "outputs": []
    },
    {
      "cell_type": "code",
      "source": [],
      "metadata": {
        "id": "Urm-CPWRRxrl"
      },
      "execution_count": null,
      "outputs": []
    },
    {
      "cell_type": "code",
      "source": [],
      "metadata": {
        "id": "yBL8O1RaRxuL"
      },
      "execution_count": null,
      "outputs": []
    },
    {
      "cell_type": "code",
      "source": [],
      "metadata": {
        "id": "lPdlL824Rxwo"
      },
      "execution_count": null,
      "outputs": []
    },
    {
      "cell_type": "code",
      "source": [],
      "metadata": {
        "id": "zobCLaHPjGk-"
      },
      "execution_count": null,
      "outputs": []
    }
  ]
}